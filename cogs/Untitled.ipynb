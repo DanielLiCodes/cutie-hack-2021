{
 "cells": [
  {
   "cell_type": "code",
   "execution_count": 1,
   "id": "1971a27c",
   "metadata": {},
   "outputs": [],
   "source": [
    "import firebase_admin\n",
    "from firebase_admin import credentials, firestore\n",
    "import pandas as pd\n",
    "import ast"
   ]
  },
  {
   "cell_type": "code",
   "execution_count": 7,
   "id": "6f9d1136",
   "metadata": {},
   "outputs": [
    {
     "data": {
      "text/plain": [
       "<firebase_admin.App at 0x13720bee0>"
      ]
     },
     "execution_count": 7,
     "metadata": {},
     "output_type": "execute_result"
    }
   ],
   "source": [
    "\n",
    "cred = credentials.Certificate(\"./key.json\")\n",
    "firebase_admin.initialize_app(cred)"
   ]
  },
  {
   "cell_type": "code",
   "execution_count": 9,
   "id": "b82cbead",
   "metadata": {},
   "outputs": [],
   "source": [
    "db = firestore.client()"
   ]
  },
  {
   "cell_type": "code",
   "execution_count": 60,
   "id": "c0888056",
   "metadata": {},
   "outputs": [],
   "source": [
    "mentors = db.collection(\"mentors\")\n",
    "mentees = db.collection(\"mentees\")"
   ]
  },
  {
   "cell_type": "code",
   "execution_count": 14,
   "id": "f6f97008",
   "metadata": {},
   "outputs": [],
   "source": [
    "data = {'name':\"Daniel\",\n",
    "       'interets':[\"a\", \"b\", \"c\"]}"
   ]
  },
  {
   "cell_type": "code",
   "execution_count": 15,
   "id": "39803e56",
   "metadata": {},
   "outputs": [
    {
     "data": {
      "text/plain": [
       "(DatetimeWithNanoseconds(2021, 11, 6, 20, 17, 29, 194664, tzinfo=datetime.timezone.utc),\n",
       " <google.cloud.firestore_v1.document.DocumentReference at 0x1372229a0>)"
      ]
     },
     "execution_count": 15,
     "metadata": {},
     "output_type": "execute_result"
    }
   ],
   "source": [
    "mentor.add(data)"
   ]
  },
  {
   "cell_type": "code",
   "execution_count": 207,
   "id": "7ebd6599",
   "metadata": {},
   "outputs": [],
   "source": [
    "def addToDb(isMentor, name, discord, major, year, interests, requests):\n",
    "            data = {\n",
    "                \"name\" : name,\n",
    "                \"discord\" : discord,\n",
    "                \"major\" : major,\n",
    "                \"year\" : year,\n",
    "                \"interests\" : interests,\n",
    "                \"request\": requests\n",
    "            }\n",
    "            if isMentor:\n",
    "                mentors.add(data)\n",
    "            else:\n",
    "                mentees.add(data)"
   ]
  },
  {
   "cell_type": "code",
   "execution_count": 200,
   "id": "96160ee6",
   "metadata": {},
   "outputs": [],
   "source": [
    "addToDb(False, \"Alex Woo\", \"haha#5081\",\"Computer Science\", \"1\", [\"Coding\", \"Gaming\", \"Sleeping\"], \"n/a\")"
   ]
  },
  {
   "cell_type": "code",
   "execution_count": 21,
   "id": "4f3c3cc7",
   "metadata": {},
   "outputs": [],
   "source": [
    "interests = [\"coding\", \"cooking\", \"games\"]"
   ]
  },
  {
   "cell_type": "code",
   "execution_count": 201,
   "id": "14dcbbbc",
   "metadata": {},
   "outputs": [
    {
     "data": {
      "text/plain": [
       "[<google.cloud.firestore_v1.base_document.DocumentSnapshot at 0x146849af0>,\n",
       " <google.cloud.firestore_v1.base_document.DocumentSnapshot at 0x146822850>,\n",
       " <google.cloud.firestore_v1.base_document.DocumentSnapshot at 0x146822880>,\n",
       " <google.cloud.firestore_v1.base_document.DocumentSnapshot at 0x1468223d0>,\n",
       " <google.cloud.firestore_v1.base_document.DocumentSnapshot at 0x14680e730>]"
      ]
     },
     "execution_count": 201,
     "metadata": {},
     "output_type": "execute_result"
    }
   ],
   "source": [
    "\n",
    "\n",
    "mentees.get()\n"
   ]
  },
  {
   "cell_type": "code",
   "execution_count": 202,
   "id": "045c88dc",
   "metadata": {},
   "outputs": [
    {
     "name": "stdout",
     "output_type": "stream",
     "text": [
      "<google.cloud.firestore_v1.base_document.DocumentSnapshot object at 0x146849280>\n",
      "<google.cloud.firestore_v1.base_document.DocumentSnapshot object at 0x14680e2b0>\n",
      "<google.cloud.firestore_v1.base_document.DocumentSnapshot object at 0x103d91e50>\n",
      "<google.cloud.firestore_v1.base_document.DocumentSnapshot object at 0x1468499a0>\n",
      "<google.cloud.firestore_v1.base_document.DocumentSnapshot object at 0x14680e670>\n"
     ]
    }
   ],
   "source": [
    "for x in mentees.get(): print(x)"
   ]
  },
  {
   "cell_type": "code",
   "execution_count": 82,
   "id": "03a60500",
   "metadata": {},
   "outputs": [
    {
     "ename": "SyntaxError",
     "evalue": "invalid syntax (3480992231.py, line 1)",
     "output_type": "error",
     "traceback": [
      "\u001b[0;36m  File \u001b[0;32m\"/var/folders/90/v46bdzhs5hjclpk5bnpf_h000000gn/T/ipykernel_45033/3480992231.py\"\u001b[0;36m, line \u001b[0;32m1\u001b[0m\n\u001b[0;31m    df = pd.DataFrame('name':['james'], 'major':['cs'], 'year':[1000], 'interests':['none'])\u001b[0m\n\u001b[0m                            ^\u001b[0m\n\u001b[0;31mSyntaxError\u001b[0m\u001b[0;31m:\u001b[0m invalid syntax\n"
     ]
    }
   ],
   "source": [
    "df = pd.DataFrame()"
   ]
  },
  {
   "cell_type": "code",
   "execution_count": 205,
   "id": "da7c7754",
   "metadata": {},
   "outputs": [],
   "source": [
    "\n",
    "#df = pd.DataFrame(data)\n",
    "datas = []\n",
    "for x in mentees.get():\n",
    "    data = {'name':x.get(\"name\"),\n",
    "            'discord':x.get(\"discord\"),\n",
    "            'major':x.get('major'),\n",
    "            'year':x.get('year'),\n",
    "            'interests': x.get('interests'),\n",
    "           'request':x.get('request')}\n",
    "    datas.append(data)\n",
    "df = pd.DataFrame(datas)\n"
   ]
  },
  {
   "cell_type": "code",
   "execution_count": 206,
   "id": "ad292543",
   "metadata": {},
   "outputs": [
    {
     "data": {
      "text/html": [
       "<div>\n",
       "<style scoped>\n",
       "    .dataframe tbody tr th:only-of-type {\n",
       "        vertical-align: middle;\n",
       "    }\n",
       "\n",
       "    .dataframe tbody tr th {\n",
       "        vertical-align: top;\n",
       "    }\n",
       "\n",
       "    .dataframe thead th {\n",
       "        text-align: right;\n",
       "    }\n",
       "</style>\n",
       "<table border=\"1\" class=\"dataframe\">\n",
       "  <thead>\n",
       "    <tr style=\"text-align: right;\">\n",
       "      <th></th>\n",
       "      <th>name</th>\n",
       "      <th>discord</th>\n",
       "      <th>major</th>\n",
       "      <th>year</th>\n",
       "      <th>interests</th>\n",
       "      <th>request</th>\n",
       "    </tr>\n",
       "  </thead>\n",
       "  <tbody>\n",
       "    <tr>\n",
       "      <th>0</th>\n",
       "      <td>haha#5081</td>\n",
       "      <td>Ethan Too</td>\n",
       "      <td>Computer Science</td>\n",
       "      <td>2</td>\n",
       "      <td>[Eating, Dancing]</td>\n",
       "      <td>n/a</td>\n",
       "    </tr>\n",
       "    <tr>\n",
       "      <th>1</th>\n",
       "      <td>haha#5081</td>\n",
       "      <td>Sam Too</td>\n",
       "      <td>Electrical Engineering</td>\n",
       "      <td>3</td>\n",
       "      <td>[jumping, coding]</td>\n",
       "      <td>I want to make friends</td>\n",
       "    </tr>\n",
       "    <tr>\n",
       "      <th>2</th>\n",
       "      <td>haha#5081</td>\n",
       "      <td>Alex Woo</td>\n",
       "      <td>Computer Science</td>\n",
       "      <td>1</td>\n",
       "      <td>[Coding, Gaming, Sleeping]</td>\n",
       "      <td>n/a</td>\n",
       "    </tr>\n",
       "    <tr>\n",
       "      <th>3</th>\n",
       "      <td>haha#5081</td>\n",
       "      <td>Ethan Too</td>\n",
       "      <td>Electrical Engineering</td>\n",
       "      <td>2</td>\n",
       "      <td>[Eating]</td>\n",
       "      <td>I want to make friends</td>\n",
       "    </tr>\n",
       "    <tr>\n",
       "      <th>4</th>\n",
       "      <td>haha#5081</td>\n",
       "      <td>Will Zhang</td>\n",
       "      <td>Computer Science</td>\n",
       "      <td>4</td>\n",
       "      <td>[jumping, fencing, sports]</td>\n",
       "      <td>i want to make a cooking program</td>\n",
       "    </tr>\n",
       "  </tbody>\n",
       "</table>\n",
       "</div>"
      ],
      "text/plain": [
       "        name     discord                   major year  \\\n",
       "0  haha#5081   Ethan Too        Computer Science    2   \n",
       "1  haha#5081     Sam Too  Electrical Engineering    3   \n",
       "2  haha#5081    Alex Woo        Computer Science    1   \n",
       "3  haha#5081   Ethan Too  Electrical Engineering    2   \n",
       "4  haha#5081  Will Zhang        Computer Science    4   \n",
       "\n",
       "                    interests                           request  \n",
       "0           [Eating, Dancing]                               n/a  \n",
       "1           [jumping, coding]            I want to make friends  \n",
       "2  [Coding, Gaming, Sleeping]                               n/a  \n",
       "3                    [Eating]            I want to make friends  \n",
       "4  [jumping, fencing, sports]  i want to make a cooking program  "
      ]
     },
     "metadata": {},
     "output_type": "display_data"
    }
   ],
   "source": [
    "display(df)"
   ]
  },
  {
   "cell_type": "code",
   "execution_count": 147,
   "id": "aadcae38",
   "metadata": {},
   "outputs": [
    {
     "ename": "TypeError",
     "evalue": "len() takes exactly one argument (0 given)",
     "output_type": "error",
     "traceback": [
      "\u001b[0;31m---------------------------------------------------------------------------\u001b[0m",
      "\u001b[0;31mTypeError\u001b[0m                                 Traceback (most recent call last)",
      "\u001b[0;32m/var/folders/90/v46bdzhs5hjclpk5bnpf_h000000gn/T/ipykernel_45033/3128589276.py\u001b[0m in \u001b[0;36m<module>\u001b[0;34m\u001b[0m\n\u001b[0;32m----> 1\u001b[0;31m \u001b[0mdf\u001b[0m\u001b[0;34m.\u001b[0m\u001b[0msort_values\u001b[0m\u001b[0;34m(\u001b[0m\u001b[0;34m'interests'\u001b[0m\u001b[0;34m,\u001b[0m \u001b[0mkey\u001b[0m \u001b[0;34m=\u001b[0m \u001b[0mlen\u001b[0m\u001b[0;34m(\u001b[0m\u001b[0;34m)\u001b[0m\u001b[0;34m)\u001b[0m\u001b[0;34m\u001b[0m\u001b[0;34m\u001b[0m\u001b[0m\n\u001b[0m",
      "\u001b[0;31mTypeError\u001b[0m: len() takes exactly one argument (0 given)"
     ]
    }
   ],
   "source": [
    "df.sort_values('interests', key = )"
   ]
  },
  {
   "cell_type": "code",
   "execution_count": 133,
   "id": "55e54f1d",
   "metadata": {},
   "outputs": [],
   "source": [
    "matches = ['cooking']\n",
    "def sortFunc(df):\n",
    "    counter = 0\n",
    "    for x in df.get('interests'):\n",
    "        if x in matches: counter+=1\n",
    "    return counter"
   ]
  },
  {
   "cell_type": "code",
   "execution_count": 152,
   "id": "991fd6ca",
   "metadata": {},
   "outputs": [
    {
     "data": {
      "text/html": [
       "<div>\n",
       "<style scoped>\n",
       "    .dataframe tbody tr th:only-of-type {\n",
       "        vertical-align: middle;\n",
       "    }\n",
       "\n",
       "    .dataframe tbody tr th {\n",
       "        vertical-align: top;\n",
       "    }\n",
       "\n",
       "    .dataframe thead th {\n",
       "        text-align: right;\n",
       "    }\n",
       "</style>\n",
       "<table border=\"1\" class=\"dataframe\">\n",
       "  <thead>\n",
       "    <tr style=\"text-align: right;\">\n",
       "      <th></th>\n",
       "      <th>name</th>\n",
       "      <th>major</th>\n",
       "      <th>year</th>\n",
       "      <th>interests</th>\n",
       "      <th>request</th>\n",
       "    </tr>\n",
       "  </thead>\n",
       "  <tbody>\n",
       "    <tr>\n",
       "      <th>0</th>\n",
       "      <td>James Zhang</td>\n",
       "      <td>Computer Science</td>\n",
       "      <td>4</td>\n",
       "      <td>[games, osu]</td>\n",
       "      <td>n/a</td>\n",
       "    </tr>\n",
       "    <tr>\n",
       "      <th>1</th>\n",
       "      <td>Ethan Qiao</td>\n",
       "      <td>Computer Science</td>\n",
       "      <td>1</td>\n",
       "      <td>[games, osu]</td>\n",
       "      <td>na</td>\n",
       "    </tr>\n",
       "    <tr>\n",
       "      <th>2</th>\n",
       "      <td>John Zhang</td>\n",
       "      <td>Computer Science</td>\n",
       "      <td>4</td>\n",
       "      <td>[jumping, sports]</td>\n",
       "      <td>i want to make a cooking program</td>\n",
       "    </tr>\n",
       "    <tr>\n",
       "      <th>3</th>\n",
       "      <td>James Zhang</td>\n",
       "      <td>Computer Science</td>\n",
       "      <td>4</td>\n",
       "      <td>[games, osu, coding, cooking]</td>\n",
       "      <td>i want to make a cooking program</td>\n",
       "    </tr>\n",
       "    <tr>\n",
       "      <th>4</th>\n",
       "      <td>Will Zhang</td>\n",
       "      <td>Computer Science</td>\n",
       "      <td>4</td>\n",
       "      <td>[jumping, fencing, sports]</td>\n",
       "      <td>i want to make a cooking program</td>\n",
       "    </tr>\n",
       "    <tr>\n",
       "      <th>5</th>\n",
       "      <td>Samuel Qiao</td>\n",
       "      <td>Computer Science</td>\n",
       "      <td>1</td>\n",
       "      <td>[games, osu]</td>\n",
       "      <td>na</td>\n",
       "    </tr>\n",
       "    <tr>\n",
       "      <th>6</th>\n",
       "      <td>William Qiao</td>\n",
       "      <td>Computer Science</td>\n",
       "      <td>2</td>\n",
       "      <td>[games, osu]</td>\n",
       "      <td>I want to learn frontend!</td>\n",
       "    </tr>\n",
       "  </tbody>\n",
       "</table>\n",
       "</div>"
      ],
      "text/plain": [
       "           name             major year                      interests  \\\n",
       "0   James Zhang  Computer Science    4                   [games, osu]   \n",
       "1    Ethan Qiao  Computer Science    1                   [games, osu]   \n",
       "2    John Zhang  Computer Science    4              [jumping, sports]   \n",
       "3   James Zhang  Computer Science    4  [games, osu, coding, cooking]   \n",
       "4    Will Zhang  Computer Science    4     [jumping, fencing, sports]   \n",
       "5   Samuel Qiao  Computer Science    1                   [games, osu]   \n",
       "6  William Qiao  Computer Science    2                   [games, osu]   \n",
       "\n",
       "                            request  \n",
       "0                               n/a  \n",
       "1                                na  \n",
       "2  i want to make a cooking program  \n",
       "3  i want to make a cooking program  \n",
       "4  i want to make a cooking program  \n",
       "5                                na  \n",
       "6         I want to learn frontend!  "
      ]
     },
     "execution_count": 152,
     "metadata": {},
     "output_type": "execute_result"
    }
   ],
   "source": [
    "df.sort_values(by='major')"
   ]
  },
  {
   "cell_type": "code",
   "execution_count": 150,
   "id": "99fd9292",
   "metadata": {},
   "outputs": [
    {
     "ename": "SyntaxError",
     "evalue": "invalid syntax (3092157576.py, line 1)",
     "output_type": "error",
     "traceback": [
      "\u001b[0;36m  File \u001b[0;32m\"/var/folders/90/v46bdzhs5hjclpk5bnpf_h000000gn/T/ipykernel_45033/3092157576.py\"\u001b[0;36m, line \u001b[0;32m1\u001b[0m\n\u001b[0;31m    def sortDF(df.cols):\u001b[0m\n\u001b[0m                 ^\u001b[0m\n\u001b[0;31mSyntaxError\u001b[0m\u001b[0;31m:\u001b[0m invalid syntax\n"
     ]
    }
   ],
   "source": [
    "def sortDF(df.col):\n",
    "    data = []\n",
    "    for x in df:\n",
    "        print(x)"
   ]
  },
  {
   "cell_type": "code",
   "execution_count": 158,
   "id": "36642902",
   "metadata": {},
   "outputs": [
    {
     "data": {
      "text/html": [
       "<div>\n",
       "<style scoped>\n",
       "    .dataframe tbody tr th:only-of-type {\n",
       "        vertical-align: middle;\n",
       "    }\n",
       "\n",
       "    .dataframe tbody tr th {\n",
       "        vertical-align: top;\n",
       "    }\n",
       "\n",
       "    .dataframe thead th {\n",
       "        text-align: right;\n",
       "    }\n",
       "</style>\n",
       "<table border=\"1\" class=\"dataframe\">\n",
       "  <thead>\n",
       "    <tr style=\"text-align: right;\">\n",
       "      <th></th>\n",
       "      <th>name</th>\n",
       "      <th>major</th>\n",
       "      <th>year</th>\n",
       "      <th>interests</th>\n",
       "      <th>request</th>\n",
       "    </tr>\n",
       "  </thead>\n",
       "  <tbody>\n",
       "    <tr>\n",
       "      <th>0</th>\n",
       "      <td>James Zhang</td>\n",
       "      <td>Computer Science</td>\n",
       "      <td>4</td>\n",
       "      <td>[games, osu]</td>\n",
       "      <td>n/a</td>\n",
       "    </tr>\n",
       "    <tr>\n",
       "      <th>1</th>\n",
       "      <td>Ethan Qiao</td>\n",
       "      <td>Computer Science</td>\n",
       "      <td>1</td>\n",
       "      <td>[games, osu]</td>\n",
       "      <td>na</td>\n",
       "    </tr>\n",
       "    <tr>\n",
       "      <th>2</th>\n",
       "      <td>John Zhang</td>\n",
       "      <td>Computer Science</td>\n",
       "      <td>4</td>\n",
       "      <td>[jumping, sports]</td>\n",
       "      <td>i want to make a cooking program</td>\n",
       "    </tr>\n",
       "    <tr>\n",
       "      <th>3</th>\n",
       "      <td>James Zhang</td>\n",
       "      <td>Computer Science</td>\n",
       "      <td>4</td>\n",
       "      <td>[games, osu, coding, cooking]</td>\n",
       "      <td>i want to make a cooking program</td>\n",
       "    </tr>\n",
       "    <tr>\n",
       "      <th>4</th>\n",
       "      <td>Will Zhang</td>\n",
       "      <td>Computer Science</td>\n",
       "      <td>4</td>\n",
       "      <td>[jumping, fencing, sports]</td>\n",
       "      <td>i want to make a cooking program</td>\n",
       "    </tr>\n",
       "    <tr>\n",
       "      <th>5</th>\n",
       "      <td>Samuel Qiao</td>\n",
       "      <td>Computer Science</td>\n",
       "      <td>1</td>\n",
       "      <td>[games, osu]</td>\n",
       "      <td>na</td>\n",
       "    </tr>\n",
       "    <tr>\n",
       "      <th>6</th>\n",
       "      <td>William Qiao</td>\n",
       "      <td>Computer Science</td>\n",
       "      <td>2</td>\n",
       "      <td>[games, osu]</td>\n",
       "      <td>I want to learn frontend!</td>\n",
       "    </tr>\n",
       "  </tbody>\n",
       "</table>\n",
       "</div>"
      ],
      "text/plain": [
       "           name             major year                      interests  \\\n",
       "0   James Zhang  Computer Science    4                   [games, osu]   \n",
       "1    Ethan Qiao  Computer Science    1                   [games, osu]   \n",
       "2    John Zhang  Computer Science    4              [jumping, sports]   \n",
       "3   James Zhang  Computer Science    4  [games, osu, coding, cooking]   \n",
       "4    Will Zhang  Computer Science    4     [jumping, fencing, sports]   \n",
       "5   Samuel Qiao  Computer Science    1                   [games, osu]   \n",
       "6  William Qiao  Computer Science    2                   [games, osu]   \n",
       "\n",
       "                            request  \n",
       "0                               n/a  \n",
       "1                                na  \n",
       "2  i want to make a cooking program  \n",
       "3  i want to make a cooking program  \n",
       "4  i want to make a cooking program  \n",
       "5                                na  \n",
       "6         I want to learn frontend!  "
      ]
     },
     "execution_count": 158,
     "metadata": {},
     "output_type": "execute_result"
    }
   ],
   "source": [
    "df.loc[df['major'] == 'Computer Science']"
   ]
  },
  {
   "cell_type": "code",
   "execution_count": 189,
   "id": "0d6e6e7f",
   "metadata": {},
   "outputs": [
    {
     "name": "stdout",
     "output_type": "stream",
     "text": [
      "William Qiao\n"
     ]
    }
   ],
   "source": [
    "for x in df.loc[df['year'] == '2'].iterrows():\n",
    "    print(x[1].get(\"name\"))\n"
   ]
  },
  {
   "cell_type": "code",
   "execution_count": null,
   "id": "3c5914cf",
   "metadata": {},
   "outputs": [],
   "source": []
  }
 ],
 "metadata": {
  "kernelspec": {
   "display_name": "Python 3 (ipykernel)",
   "language": "python",
   "name": "python3"
  },
  "language_info": {
   "codemirror_mode": {
    "name": "ipython",
    "version": 3
   },
   "file_extension": ".py",
   "mimetype": "text/x-python",
   "name": "python",
   "nbconvert_exporter": "python",
   "pygments_lexer": "ipython3",
   "version": "3.9.7"
  }
 },
 "nbformat": 4,
 "nbformat_minor": 5
}
