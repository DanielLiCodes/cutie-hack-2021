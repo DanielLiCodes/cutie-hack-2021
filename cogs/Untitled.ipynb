{
 "cells": [
  {
   "cell_type": "code",
   "execution_count": 1,
   "id": "a99c4bcd",
   "metadata": {},
   "outputs": [],
   "source": [
    "import firebase_admin\n",
    "from firebase_admin import credentials, firestore\n",
    "import pandas as pd\n",
    "import ast"
   ]
  },
  {
   "cell_type": "code",
   "execution_count": 7,
   "id": "61f23faf",
   "metadata": {},
   "outputs": [
    {
     "data": {
      "text/plain": [
       "<firebase_admin.App at 0x13720bee0>"
      ]
     },
     "execution_count": 7,
     "metadata": {},
     "output_type": "execute_result"
    }
   ],
   "source": [
    "\n",
    "cred = credentials.Certificate(\"./key.json\")\n",
    "firebase_admin.initialize_app(cred)"
   ]
  },
  {
   "cell_type": "code",
   "execution_count": 9,
   "id": "bdd15ef4",
   "metadata": {},
   "outputs": [],
   "source": [
    "db = firestore.client()"
   ]
  },
  {
   "cell_type": "code",
   "execution_count": 17,
   "id": "26ada42f",
   "metadata": {},
   "outputs": [],
   "source": [
    "mentors = db.collection(\"mentors\")\n",
    "mentees = db.collection(\"mentees\")"
   ]
  },
  {
   "cell_type": "code",
   "execution_count": 14,
   "id": "60d07a36",
   "metadata": {},
   "outputs": [],
   "source": [
    "data = {'name':\"Daniel\",\n",
    "       'interets':[\"a\", \"b\", \"c\"]}"
   ]
  },
  {
   "cell_type": "code",
   "execution_count": 15,
   "id": "6281d94e",
   "metadata": {},
   "outputs": [
    {
     "data": {
      "text/plain": [
       "(DatetimeWithNanoseconds(2021, 11, 6, 20, 17, 29, 194664, tzinfo=datetime.timezone.utc),\n",
       " <google.cloud.firestore_v1.document.DocumentReference at 0x1372229a0>)"
      ]
     },
     "execution_count": 15,
     "metadata": {},
     "output_type": "execute_result"
    }
   ],
   "source": [
    "mentor.add(data)"
   ]
  },
  {
   "cell_type": "code",
   "execution_count": 16,
   "id": "cdc42239",
   "metadata": {},
   "outputs": [],
   "source": [
    "def addToDb(isMentor, name, major, year, interests):\n",
    "            data = {\n",
    "                \"name\" : name,\n",
    "                \"major\" : major,\n",
    "                \"year\" : year,\n",
    "                \"interests\" : interests\n",
    "            }\n",
    "            if isMentor:\n",
    "                mentors.add(data)\n",
    "            else:\n",
    "                mentees.add(data)"
   ]
  },
  {
   "cell_type": "code",
   "execution_count": 20,
   "id": "a54cc157",
   "metadata": {},
   "outputs": [],
   "source": [
    "addToDb(False, \"Kevin Qiao\", \"Computer Science\", \"1\", [\"coding\", \"games\", \"osu\"])"
   ]
  },
  {
   "cell_type": "code",
   "execution_count": null,
   "id": "7b6c2444",
   "metadata": {},
   "outputs": [],
   "source": []
  }
 ],
 "metadata": {
  "kernelspec": {
   "display_name": "Python 3 (ipykernel)",
   "language": "python",
   "name": "python3"
  },
  "language_info": {
   "codemirror_mode": {
    "name": "ipython",
    "version": 3
   },
   "file_extension": ".py",
   "mimetype": "text/x-python",
   "name": "python",
   "nbconvert_exporter": "python",
   "pygments_lexer": "ipython3",
   "version": "3.9.7"
  }
 },
 "nbformat": 4,
 "nbformat_minor": 5
}
